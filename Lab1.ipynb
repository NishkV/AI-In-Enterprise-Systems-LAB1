{
 "cells": [
  {
   "cell_type": "code",
   "execution_count": 1,
   "metadata": {},
   "outputs": [
    {
     "name": "stdout",
     "output_type": "stream",
     "text": [
      "Nishka Vaishnav is a student.\n",
      "Count: 0\n",
      "Count: 1\n",
      "Count: 2\n",
      "Count: 3\n",
      "Count: 4\n",
      "Hello, Nishka Vaishnav!\n"
     ]
    }
   ],
   "source": [
    "\n",
    "name = \"Nishka Vaishnav\"\n",
    "age = 22\n",
    "is_student = True\n",
    "\n",
    "\n",
    "if is_student:\n",
    "    print(f\"{name} is a student.\")\n",
    "else:\n",
    "    print(f\"{name} is not a student.\")\n",
    "\n",
    "\n",
    "for i in range(5):\n",
    "    print(f\"Count: {i}\")\n",
    "\n",
    "def greet(name):\n",
    "    return f\"Hello, {name}!\"\n",
    "\n",
    "\n",
    "print(greet(name))\n"
   ]
  }
 ],
 "metadata": {
  "kernelspec": {
   "display_name": "base",
   "language": "python",
   "name": "python3"
  },
  "language_info": {
   "codemirror_mode": {
    "name": "ipython",
    "version": 3
   },
   "file_extension": ".py",
   "mimetype": "text/x-python",
   "name": "python",
   "nbconvert_exporter": "python",
   "pygments_lexer": "ipython3",
   "version": "3.11.5"
  }
 },
 "nbformat": 4,
 "nbformat_minor": 2
}
